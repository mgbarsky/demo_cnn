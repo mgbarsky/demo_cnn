{
 "cells": [
  {
   "cell_type": "markdown",
   "metadata": {},
   "source": [
    "# 1D CNN for Sequence Classification"
   ]
  },
  {
   "cell_type": "markdown",
   "metadata": {},
   "source": [
    "Install keras library, if not already installed."
   ]
  },
  {
   "cell_type": "raw",
   "metadata": {},
   "source": [
    "!pip install tensorflow"
   ]
  },
  {
   "cell_type": "markdown",
   "metadata": {},
   "source": [
    "Import libaries and use the built-in keras dataset.\n",
    "The datset contains movie reviews with the binary sentiment labels (positive:1, negative:0) attached to each review.\n",
    "The reference is [here](https://ai.stanford.edu/~amaas/data/sentiment/)."
   ]
  },
  {
   "cell_type": "code",
   "execution_count": 2,
   "metadata": {},
   "outputs": [],
   "source": [
    "from keras.datasets import imdb\n",
    "from keras.utils import pad_sequences"
   ]
  },
  {
   "cell_type": "markdown",
   "metadata": {},
   "source": [
    "Preprocessing the dataset, and limiting the number of words and the number of reviews."
   ]
  },
  {
   "cell_type": "code",
   "execution_count": 3,
   "metadata": {},
   "outputs": [
    {
     "name": "stdout",
     "output_type": "stream",
     "text": [
      "Loading data...\n",
      "25000 train sequences\n",
      "25000 test sequences\n",
      "Pad sequences (samples x time)\n",
      "x_train shape: (25000, 500)\n",
      "x_test shape: (25000, 500)\n"
     ]
    }
   ],
   "source": [
    "max_features = 10000\n",
    "max_len = 500\n",
    "print('Loading data...')\n",
    "(x_train, y_train), (x_test, y_test) = imdb.load_data(num_words=max_features)\n",
    "\n",
    "print(len(x_train), 'train sequences')\n",
    "print(len(x_test), 'test sequences')\n",
    "\n",
    "print('Pad sequences (samples x time)')\n",
    "x_train = pad_sequences(x_train, maxlen=max_len)\n",
    "x_test = pad_sequences(x_test, maxlen=max_len)\n",
    "\n",
    "print('x_train shape:', x_train.shape)\n",
    "print('x_test shape:', x_test.shape)"
   ]
  },
  {
   "cell_type": "markdown",
   "metadata": {},
   "source": [
    "Here we build layers of Convolutional Network, in 1 dimension.\n",
    "Each sliding frame of size 7 will convolve (using a convolution vector) into a single value, and the netork will learn the weights."
   ]
  },
  {
   "cell_type": "code",
   "execution_count": 4,
   "metadata": {},
   "outputs": [
    {
     "name": "stdout",
     "output_type": "stream",
     "text": [
      "Model: \"sequential\"\n",
      "_________________________________________________________________\n",
      " Layer (type)                Output Shape              Param #   \n",
      "=================================================================\n",
      " embedding (Embedding)       (None, 500, 128)          1280000   \n",
      "                                                                 \n",
      " conv1d (Conv1D)             (None, 494, 32)           28704     \n",
      "                                                                 \n",
      " max_pooling1d (MaxPooling1D  (None, 98, 32)           0         \n",
      " )                                                               \n",
      "                                                                 \n",
      " conv1d_1 (Conv1D)           (None, 92, 32)            7200      \n",
      "                                                                 \n",
      " global_max_pooling1d (Globa  (None, 32)               0         \n",
      " lMaxPooling1D)                                                  \n",
      "                                                                 \n",
      " dense (Dense)               (None, 1)                 33        \n",
      "                                                                 \n",
      "=================================================================\n",
      "Total params: 1,315,937\n",
      "Trainable params: 1,315,937\n",
      "Non-trainable params: 0\n",
      "_________________________________________________________________\n"
     ]
    }
   ],
   "source": [
    "from keras.models import Sequential\n",
    "from keras import layers\n",
    "from keras.optimizers import RMSprop\n",
    "model = Sequential()\n",
    "model.add(layers.Embedding(max_features, 128, input_length=max_len))\n",
    "model.add(layers.Conv1D(32, 7, activation='relu'))\n",
    "model.add(layers.MaxPooling1D(5))\n",
    "model.add(layers.Conv1D(32, 7, activation='relu'))\n",
    "model.add(layers.GlobalMaxPooling1D())\n",
    "model.add(layers.Dense(1))\n",
    "model.summary()"
   ]
  },
  {
   "cell_type": "code",
   "execution_count": 5,
   "metadata": {},
   "outputs": [
    {
     "name": "stdout",
     "output_type": "stream",
     "text": [
      "Epoch 1/10\n",
      "157/157 [==============================] - 21s 129ms/step - loss: 0.8344 - acc: 0.5178 - val_loss: 0.6865 - val_acc: 0.5430\n",
      "Epoch 2/10\n",
      "157/157 [==============================] - 26s 163ms/step - loss: 0.6670 - acc: 0.6677 - val_loss: 0.6600 - val_acc: 0.6748\n",
      "Epoch 3/10\n",
      "157/157 [==============================] - 27s 170ms/step - loss: 0.6132 - acc: 0.7794 - val_loss: 0.5897 - val_acc: 0.7632\n",
      "Epoch 4/10\n",
      "157/157 [==============================] - 33s 210ms/step - loss: 0.5008 - acc: 0.8237 - val_loss: 0.4552 - val_acc: 0.8190\n",
      "Epoch 5/10\n",
      "157/157 [==============================] - 33s 210ms/step - loss: 0.3917 - acc: 0.8580 - val_loss: 0.4315 - val_acc: 0.8344\n",
      "Epoch 6/10\n",
      "157/157 [==============================] - 26s 165ms/step - loss: 0.3285 - acc: 0.8821 - val_loss: 0.4166 - val_acc: 0.8536\n",
      "Epoch 7/10\n",
      "157/157 [==============================] - 27s 171ms/step - loss: 0.2966 - acc: 0.8998 - val_loss: 0.4243 - val_acc: 0.8634\n",
      "Epoch 8/10\n",
      "157/157 [==============================] - 27s 170ms/step - loss: 0.2651 - acc: 0.9133 - val_loss: 0.4510 - val_acc: 0.8652\n",
      "Epoch 9/10\n",
      "157/157 [==============================] - 26s 169ms/step - loss: 0.2401 - acc: 0.9213 - val_loss: 0.4461 - val_acc: 0.8716\n",
      "Epoch 10/10\n",
      "157/157 [==============================] - 27s 174ms/step - loss: 0.2190 - acc: 0.9319 - val_loss: 0.4719 - val_acc: 0.8710\n"
     ]
    }
   ],
   "source": [
    "model.compile(optimizer=RMSprop(learning_rate=1e-4),\n",
    "              loss='binary_crossentropy',\n",
    "              metrics=['acc'])\n",
    "history = model.fit(x_train, y_train,\n",
    "                    epochs=10,\n",
    "                    batch_size=128,\n",
    "                    validation_split=0.2)"
   ]
  },
  {
   "cell_type": "markdown",
   "metadata": {},
   "source": [
    "This is a convincing demonstration that a 1D CNN can offer a fast, cheap alternative to a recurrent network on a word-level sentiment-classification task."
   ]
  },
  {
   "cell_type": "markdown",
   "metadata": {},
   "source": [
    "Adopted from the blog: Convolutional Neural Networks for Sequence Processing: Part 1. Implementing a 1D CNN.\n",
    "Web [link](https://froiland.medium.com/convolutional-neural-networks-for-sequence-processing-part-1-420dd9b500).Retrieved on Apr 25, 2023."
   ]
  }
 ],
 "metadata": {
  "kernelspec": {
   "display_name": "Python 3 (ipykernel)",
   "language": "python",
   "name": "python3"
  },
  "language_info": {
   "codemirror_mode": {
    "name": "ipython",
    "version": 3
   },
   "file_extension": ".py",
   "mimetype": "text/x-python",
   "name": "python",
   "nbconvert_exporter": "python",
   "pygments_lexer": "ipython3",
   "version": "3.10.9"
  }
 },
 "nbformat": 4,
 "nbformat_minor": 4
}
