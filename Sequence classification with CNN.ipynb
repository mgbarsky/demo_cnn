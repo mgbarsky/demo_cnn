{
 "cells": [
  {
   "cell_type": "markdown",
   "metadata": {},
   "source": [
    "# 1D CNN for Sequence Classification"
   ]
  },
  {
   "cell_type": "markdown",
   "metadata": {},
   "source": [
    "Install keras library, if not already installed."
   ]
  },
  {
   "cell_type": "raw",
   "metadata": {},
   "source": [
    "!pip install keras"
   ]
  },
  {
   "cell_type": "markdown",
   "metadata": {},
   "source": [
    "Import libaries and use the built-in keras dataset.\n",
    "The datset contains movie reviews with the binary sentiment labels (positive:1, negative:0)attached to each review.\n",
    "The reference is [here](https://ai.stanford.edu/~amaas/data/sentiment/)."
   ]
  },
  {
   "cell_type": "code",
   "execution_count": 1,
   "metadata": {},
   "outputs": [],
   "source": [
    "from keras.datasets import imdb\n",
    "from keras.preprocessing import sequence"
   ]
  },
  {
   "cell_type": "markdown",
   "metadata": {},
   "source": [
    "Preprocessing the dataset, and limiting the number of words and the number of reviews."
   ]
  },
  {
   "cell_type": "code",
   "execution_count": 2,
   "metadata": {},
   "outputs": [
    {
     "name": "stdout",
     "output_type": "stream",
     "text": [
      "Loading data...\n",
      "25000 train sequences\n",
      "25000 test sequences\n",
      "Pad sequences (samples x time)\n",
      "x_train shape: (25000, 500)\n",
      "x_test shape: (25000, 500)\n"
     ]
    }
   ],
   "source": [
    "max_features = 10000\n",
    "max_len = 500\n",
    "print('Loading data...')\n",
    "(x_train, y_train), (x_test, y_test) = imdb.load_data(num_words=max_features)\n",
    "\n",
    "print(len(x_train), 'train sequences')\n",
    "print(len(x_test), 'test sequences')\n",
    "\n",
    "print('Pad sequences (samples x time)')\n",
    "x_train = sequence.pad_sequences(x_train, maxlen=max_len)\n",
    "x_test = sequence.pad_sequences(x_test, maxlen=max_len)\n",
    "\n",
    "print('x_train shape:', x_train.shape)\n",
    "print('x_test shape:', x_test.shape)"
   ]
  },
  {
   "cell_type": "markdown",
   "metadata": {},
   "source": [
    "Here we build layers of Convolutional Network, in 1 dimension.\n",
    "Each sliding frame of size 7 will convolve (using a convolution vector) into a single value, and the netork will learn the weights."
   ]
  },
  {
   "cell_type": "code",
   "execution_count": 3,
   "metadata": {},
   "outputs": [
    {
     "name": "stdout",
     "output_type": "stream",
     "text": [
      "Model: \"sequential\"\n",
      "_________________________________________________________________\n",
      "Layer (type)                 Output Shape              Param #   \n",
      "=================================================================\n",
      "embedding (Embedding)        (None, 500, 128)          1280000   \n",
      "_________________________________________________________________\n",
      "conv1d (Conv1D)              (None, 494, 32)           28704     \n",
      "_________________________________________________________________\n",
      "max_pooling1d (MaxPooling1D) (None, 98, 32)            0         \n",
      "_________________________________________________________________\n",
      "conv1d_1 (Conv1D)            (None, 92, 32)            7200      \n",
      "_________________________________________________________________\n",
      "global_max_pooling1d (Global (None, 32)                0         \n",
      "_________________________________________________________________\n",
      "dense (Dense)                (None, 1)                 33        \n",
      "=================================================================\n",
      "Total params: 1,315,937\n",
      "Trainable params: 1,315,937\n",
      "Non-trainable params: 0\n",
      "_________________________________________________________________\n"
     ]
    }
   ],
   "source": [
    "from keras.models import Sequential\n",
    "from keras import layers\n",
    "from keras.optimizers import RMSprop\n",
    "model = Sequential()\n",
    "model.add(layers.Embedding(max_features, 128, input_length=max_len))\n",
    "model.add(layers.Conv1D(32, 7, activation='relu'))\n",
    "model.add(layers.MaxPooling1D(5))\n",
    "model.add(layers.Conv1D(32, 7, activation='relu'))\n",
    "model.add(layers.GlobalMaxPooling1D())\n",
    "model.add(layers.Dense(1))\n",
    "model.summary()"
   ]
  },
  {
   "cell_type": "code",
   "execution_count": 4,
   "metadata": {},
   "outputs": [
    {
     "name": "stdout",
     "output_type": "stream",
     "text": [
      "Epoch 1/10\n",
      "157/157 [==============================] - 22s 142ms/step - loss: 0.7153 - acc: 0.5312 - val_loss: 0.6810 - val_acc: 0.5914\n",
      "Epoch 2/10\n",
      "157/157 [==============================] - 22s 139ms/step - loss: 0.6606 - acc: 0.6701 - val_loss: 0.6540 - val_acc: 0.6788\n",
      "Epoch 3/10\n",
      "157/157 [==============================] - 22s 139ms/step - loss: 0.6060 - acc: 0.7653 - val_loss: 0.5842 - val_acc: 0.7576\n",
      "Epoch 4/10\n",
      "157/157 [==============================] - 22s 139ms/step - loss: 0.4939 - acc: 0.8242 - val_loss: 0.4567 - val_acc: 0.8208\n",
      "Epoch 5/10\n",
      "157/157 [==============================] - 22s 140ms/step - loss: 0.3803 - acc: 0.8595 - val_loss: 0.4065 - val_acc: 0.8442\n",
      "Epoch 6/10\n",
      "157/157 [==============================] - 22s 140ms/step - loss: 0.3217 - acc: 0.8855 - val_loss: 0.3985 - val_acc: 0.8588\n",
      "Epoch 7/10\n",
      "157/157 [==============================] - 22s 141ms/step - loss: 0.2882 - acc: 0.8999 - val_loss: 0.4082 - val_acc: 0.8646\n",
      "Epoch 8/10\n",
      "157/157 [==============================] - 22s 139ms/step - loss: 0.2565 - acc: 0.9130 - val_loss: 0.4324 - val_acc: 0.8690\n",
      "Epoch 9/10\n",
      "157/157 [==============================] - 22s 139ms/step - loss: 0.2324 - acc: 0.9221 - val_loss: 0.4536 - val_acc: 0.8732\n",
      "Epoch 10/10\n",
      "157/157 [==============================] - 22s 140ms/step - loss: 0.2091 - acc: 0.9317 - val_loss: 0.4692 - val_acc: 0.8760\n"
     ]
    }
   ],
   "source": [
    "model.compile(optimizer=RMSprop(lr=1e-4),\n",
    "              loss='binary_crossentropy',\n",
    "              metrics=['acc'])\n",
    "history = model.fit(x_train, y_train,\n",
    "                    epochs=10,\n",
    "                    batch_size=128,\n",
    "                    validation_split=0.2)"
   ]
  },
  {
   "cell_type": "markdown",
   "metadata": {},
   "source": [
    "This is a convincing demonstration that a 1D CNN can offer a fast, cheap alternative to a recurrent network on a word-level sentiment-classification task."
   ]
  },
  {
   "cell_type": "markdown",
   "metadata": {},
   "source": [
    "Note however that a much better accuracy was obtained in my lab on binary sentiment classification ([link](https://github.com/Xiaoyi-ZHANG23/labs_ml_naive_bayes/blob/main/submit.ipynb)) using simple Naive Bayes."
   ]
  },
  {
   "cell_type": "markdown",
   "metadata": {},
   "source": [
    "Adopted from the blog: Convolutional Neural Networks for Sequence Processing: Part 1. Implementing a 1D CNN.\n",
    "Web [link](https://froiland.medium.com/convolutional-neural-networks-for-sequence-processing-part-1-420dd9b500).Retrieved on Apr 25, 2023."
   ]
  }
 ],
 "metadata": {
  "kernelspec": {
   "display_name": "Python 3",
   "language": "python",
   "name": "python3"
  },
  "language_info": {
   "codemirror_mode": {
    "name": "ipython",
    "version": 3
   },
   "file_extension": ".py",
   "mimetype": "text/x-python",
   "name": "python",
   "nbconvert_exporter": "python",
   "pygments_lexer": "ipython3",
   "version": "3.8.3"
  }
 },
 "nbformat": 4,
 "nbformat_minor": 4
}
